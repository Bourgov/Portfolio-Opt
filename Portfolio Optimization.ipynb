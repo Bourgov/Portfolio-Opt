{
 "cells": [
  {
   "cell_type": "markdown",
   "id": "8b8e99a8",
   "metadata": {},
   "source": [
    "# Accessing Stock Price Data "
   ]
  },
  {
   "cell_type": "code",
   "execution_count": 2,
   "id": "89866615",
   "metadata": {},
   "outputs": [],
   "source": [
    "import pandas as pd\n",
    "import pandas_datareader.data as web\n",
    "import datetime\n",
    "import matplotlib.pyplot as plt\n",
    "import seaborn as sb"
   ]
  },
  {
   "cell_type": "code",
   "execution_count": 3,
   "id": "f83a77ac",
   "metadata": {},
   "outputs": [],
   "source": [
    "pd.set_option('display.max_columns', None)\n",
    "pd.set_option('display.max_rows', None)"
   ]
  },
  {
   "cell_type": "code",
   "execution_count": 4,
   "id": "50621a57",
   "metadata": {},
   "outputs": [],
   "source": [
    "start_date = datetime.datetime(2017,8,15)\n",
    "end_date = datetime.datetime(2022,8,15)"
   ]
  },
  {
   "cell_type": "code",
   "execution_count": 5,
   "id": "2a7bd283",
   "metadata": {},
   "outputs": [
    {
     "data": {
      "text/html": [
       "<div>\n",
       "<style scoped>\n",
       "    .dataframe tbody tr th:only-of-type {\n",
       "        vertical-align: middle;\n",
       "    }\n",
       "\n",
       "    .dataframe tbody tr th {\n",
       "        vertical-align: top;\n",
       "    }\n",
       "\n",
       "    .dataframe thead th {\n",
       "        text-align: right;\n",
       "    }\n",
       "</style>\n",
       "<table border=\"1\" class=\"dataframe\">\n",
       "  <thead>\n",
       "    <tr style=\"text-align: right;\">\n",
       "      <th></th>\n",
       "      <th>High</th>\n",
       "      <th>Low</th>\n",
       "      <th>Open</th>\n",
       "      <th>Close</th>\n",
       "      <th>Volume</th>\n",
       "      <th>Adj Close</th>\n",
       "    </tr>\n",
       "    <tr>\n",
       "      <th>Date</th>\n",
       "      <th></th>\n",
       "      <th></th>\n",
       "      <th></th>\n",
       "      <th></th>\n",
       "      <th></th>\n",
       "      <th></th>\n",
       "    </tr>\n",
       "  </thead>\n",
       "  <tbody>\n",
       "    <tr>\n",
       "      <th>2017-08-15</th>\n",
       "      <td>31.812143</td>\n",
       "      <td>31.555977</td>\n",
       "      <td>31.631880</td>\n",
       "      <td>31.669828</td>\n",
       "      <td>18048801.0</td>\n",
       "      <td>26.386854</td>\n",
       "    </tr>\n",
       "    <tr>\n",
       "      <th>2017-08-16</th>\n",
       "      <td>31.774195</td>\n",
       "      <td>31.555977</td>\n",
       "      <td>31.622391</td>\n",
       "      <td>31.650854</td>\n",
       "      <td>11128764.0</td>\n",
       "      <td>26.371046</td>\n",
       "    </tr>\n",
       "    <tr>\n",
       "      <th>2017-08-17</th>\n",
       "      <td>31.736242</td>\n",
       "      <td>31.261860</td>\n",
       "      <td>31.584440</td>\n",
       "      <td>31.261860</td>\n",
       "      <td>15661175.0</td>\n",
       "      <td>26.046940</td>\n",
       "    </tr>\n",
       "    <tr>\n",
       "      <th>2017-08-18</th>\n",
       "      <td>31.280834</td>\n",
       "      <td>30.977230</td>\n",
       "      <td>31.223909</td>\n",
       "      <td>30.996204</td>\n",
       "      <td>16326565.0</td>\n",
       "      <td>25.825598</td>\n",
       "    </tr>\n",
       "    <tr>\n",
       "      <th>2017-08-21</th>\n",
       "      <td>31.185959</td>\n",
       "      <td>30.664137</td>\n",
       "      <td>30.929790</td>\n",
       "      <td>31.081594</td>\n",
       "      <td>17848752.0</td>\n",
       "      <td>25.896746</td>\n",
       "    </tr>\n",
       "  </tbody>\n",
       "</table>\n",
       "</div>"
      ],
      "text/plain": [
       "                 High        Low       Open      Close      Volume  Adj Close\n",
       "Date                                                                         \n",
       "2017-08-15  31.812143  31.555977  31.631880  31.669828  18048801.0  26.386854\n",
       "2017-08-16  31.774195  31.555977  31.622391  31.650854  11128764.0  26.371046\n",
       "2017-08-17  31.736242  31.261860  31.584440  31.261860  15661175.0  26.046940\n",
       "2017-08-18  31.280834  30.977230  31.223909  30.996204  16326565.0  25.825598\n",
       "2017-08-21  31.185959  30.664137  30.929790  31.081594  17848752.0  25.896746"
      ]
     },
     "execution_count": 5,
     "metadata": {},
     "output_type": "execute_result"
    }
   ],
   "source": [
    "web.DataReader(name=\"PFE\", data_source='yahoo', start=start_date, end=end_date).head()"
   ]
  },
  {
   "cell_type": "markdown",
   "id": "19e3c5da",
   "metadata": {},
   "source": [
    "# get_stock() Function to pulling several stocks"
   ]
  },
  {
   "cell_type": "code",
   "execution_count": 6,
   "id": "e1733878",
   "metadata": {},
   "outputs": [],
   "source": [
    "def get_stock(ticker):\n",
    "    data = web.DataReader(f\"{ticker}\", 'yahoo', start=start_date, end=end_date)\n",
    "    data[f'{ticker}'] = data[\"Close\"]\n",
    "    data = data[[f'{ticker}']] \n",
    "    return data"
   ]
  },
  {
   "cell_type": "code",
   "execution_count": 7,
   "id": "a97b4256",
   "metadata": {},
   "outputs": [],
   "source": [
    "pfizer = get_stock(\"PFE\")\n",
    "jnj = get_stock(\"JNJ\")\n",
    "mrna = get_stock(\"MRNA\")"
   ]
  },
  {
   "cell_type": "markdown",
   "id": "7b336f1c",
   "metadata": {},
   "source": [
    "### To take a list of stocks and generate a single data frame of stock prices for each stock:"
   ]
  },
  {
   "cell_type": "code",
   "execution_count": 8,
   "id": "01d846b8",
   "metadata": {
    "scrolled": true
   },
   "outputs": [],
   "source": [
    "from functools import reduce\n",
    "\n",
    "def combine_stocks(tickers):\n",
    "    data_frames = []\n",
    "    for i in tickers:\n",
    "        data_frames.append(get_stock(i))\n",
    "    df_merged = reduce(lambda  left,right: pd.merge(left,right,on=['Date'], how='outer'), data_frames)\n",
    "    return df_merged\n"
   ]
  },
  {
   "cell_type": "code",
   "execution_count": 9,
   "id": "3d47edb9",
   "metadata": {},
   "outputs": [
    {
     "data": {
      "text/html": [
       "<div>\n",
       "<style scoped>\n",
       "    .dataframe tbody tr th:only-of-type {\n",
       "        vertical-align: middle;\n",
       "    }\n",
       "\n",
       "    .dataframe tbody tr th {\n",
       "        vertical-align: top;\n",
       "    }\n",
       "\n",
       "    .dataframe thead th {\n",
       "        text-align: right;\n",
       "    }\n",
       "</style>\n",
       "<table border=\"1\" class=\"dataframe\">\n",
       "  <thead>\n",
       "    <tr style=\"text-align: right;\">\n",
       "      <th></th>\n",
       "      <th>MRNA</th>\n",
       "      <th>PFE</th>\n",
       "      <th>JNJ</th>\n",
       "    </tr>\n",
       "    <tr>\n",
       "      <th>Date</th>\n",
       "      <th></th>\n",
       "      <th></th>\n",
       "      <th></th>\n",
       "    </tr>\n",
       "  </thead>\n",
       "  <tbody>\n",
       "    <tr>\n",
       "      <th>2018-11-29</th>\n",
       "      <td>NaN</td>\n",
       "      <td>43.178368</td>\n",
       "      <td>145.850006</td>\n",
       "    </tr>\n",
       "    <tr>\n",
       "      <th>2018-11-30</th>\n",
       "      <td>NaN</td>\n",
       "      <td>43.861481</td>\n",
       "      <td>146.899994</td>\n",
       "    </tr>\n",
       "    <tr>\n",
       "      <th>2018-12-03</th>\n",
       "      <td>NaN</td>\n",
       "      <td>43.633778</td>\n",
       "      <td>146.210007</td>\n",
       "    </tr>\n",
       "    <tr>\n",
       "      <th>2018-12-04</th>\n",
       "      <td>NaN</td>\n",
       "      <td>42.827324</td>\n",
       "      <td>146.029999</td>\n",
       "    </tr>\n",
       "    <tr>\n",
       "      <th>2018-12-06</th>\n",
       "      <td>NaN</td>\n",
       "      <td>42.675522</td>\n",
       "      <td>145.910004</td>\n",
       "    </tr>\n",
       "  </tbody>\n",
       "</table>\n",
       "</div>"
      ],
      "text/plain": [
       "            MRNA        PFE         JNJ\n",
       "Date                                   \n",
       "2018-11-29   NaN  43.178368  145.850006\n",
       "2018-11-30   NaN  43.861481  146.899994\n",
       "2018-12-03   NaN  43.633778  146.210007\n",
       "2018-12-04   NaN  42.827324  146.029999\n",
       "2018-12-06   NaN  42.675522  145.910004"
      ]
     },
     "execution_count": 9,
     "metadata": {},
     "output_type": "execute_result"
    }
   ],
   "source": [
    "stocks = [\"MRNA\", \"PFE\", \"JNJ\"]\n",
    "combine_stocks(stocks).tail()"
   ]
  },
  {
   "cell_type": "markdown",
   "id": "a98d0911",
   "metadata": {},
   "source": [
    "## Pulling stocks for the following industries:\n",
    "    1.Healthcare: Moderna (MRNA), Pfizer (PFE), Johnson & Johnson (JNJ)\n",
    "    2.Tech: Google (GOOGL), Facebook (META), Apple (AAPL)\n",
    "    3.Retail: Costco (COST), Walmart (WMT),  Kroger Co (KR)\n",
    "    4.Finance: JPMorgan Chase & Co (JPM), Bank of America (BAC), HSBC Holding (HSBC)"
   ]
  },
  {
   "cell_type": "code",
   "execution_count": 10,
   "id": "5ad5699f",
   "metadata": {
    "scrolled": true
   },
   "outputs": [
    {
     "data": {
      "text/html": [
       "<div>\n",
       "<style scoped>\n",
       "    .dataframe tbody tr th:only-of-type {\n",
       "        vertical-align: middle;\n",
       "    }\n",
       "\n",
       "    .dataframe tbody tr th {\n",
       "        vertical-align: top;\n",
       "    }\n",
       "\n",
       "    .dataframe thead th {\n",
       "        text-align: right;\n",
       "    }\n",
       "</style>\n",
       "<table border=\"1\" class=\"dataframe\">\n",
       "  <thead>\n",
       "    <tr style=\"text-align: right;\">\n",
       "      <th></th>\n",
       "      <th>Date</th>\n",
       "      <th>XOM</th>\n",
       "      <th>SLB</th>\n",
       "      <th>AAPL</th>\n",
       "      <th>META</th>\n",
       "      <th>MBG.DE</th>\n",
       "      <th>BMW.DE</th>\n",
       "      <th>BA</th>\n",
       "      <th>AIR.PA</th>\n",
       "    </tr>\n",
       "  </thead>\n",
       "  <tbody>\n",
       "    <tr>\n",
       "      <th>0</th>\n",
       "      <td>2017-08-15</td>\n",
       "      <td>78.040001</td>\n",
       "      <td>63.439999</td>\n",
       "      <td>40.400002</td>\n",
       "      <td>171.000000</td>\n",
       "      <td>60.250000</td>\n",
       "      <td>80.000000</td>\n",
       "      <td>239.169998</td>\n",
       "      <td>72.339996</td>\n",
       "    </tr>\n",
       "    <tr>\n",
       "      <th>1</th>\n",
       "      <td>2017-08-16</td>\n",
       "      <td>77.470001</td>\n",
       "      <td>63.709999</td>\n",
       "      <td>40.237499</td>\n",
       "      <td>170.000000</td>\n",
       "      <td>60.520000</td>\n",
       "      <td>80.139999</td>\n",
       "      <td>237.589996</td>\n",
       "      <td>72.879997</td>\n",
       "    </tr>\n",
       "    <tr>\n",
       "      <th>2</th>\n",
       "      <td>2017-08-17</td>\n",
       "      <td>76.260002</td>\n",
       "      <td>63.029999</td>\n",
       "      <td>39.465000</td>\n",
       "      <td>166.910004</td>\n",
       "      <td>60.419998</td>\n",
       "      <td>79.809998</td>\n",
       "      <td>235.589996</td>\n",
       "      <td>72.190002</td>\n",
       "    </tr>\n",
       "    <tr>\n",
       "      <th>3</th>\n",
       "      <td>2017-08-18</td>\n",
       "      <td>76.639999</td>\n",
       "      <td>63.320000</td>\n",
       "      <td>39.375000</td>\n",
       "      <td>167.410004</td>\n",
       "      <td>60.310001</td>\n",
       "      <td>79.540001</td>\n",
       "      <td>235.770004</td>\n",
       "      <td>71.500000</td>\n",
       "    </tr>\n",
       "    <tr>\n",
       "      <th>4</th>\n",
       "      <td>2017-08-21</td>\n",
       "      <td>76.379997</td>\n",
       "      <td>63.000000</td>\n",
       "      <td>39.302502</td>\n",
       "      <td>167.779999</td>\n",
       "      <td>60.110001</td>\n",
       "      <td>78.970001</td>\n",
       "      <td>235.679993</td>\n",
       "      <td>70.839996</td>\n",
       "    </tr>\n",
       "  </tbody>\n",
       "</table>\n",
       "</div>"
      ],
      "text/plain": [
       "         Date        XOM        SLB       AAPL        META     MBG.DE  \\\n",
       "0  2017-08-15  78.040001  63.439999  40.400002  171.000000  60.250000   \n",
       "1  2017-08-16  77.470001  63.709999  40.237499  170.000000  60.520000   \n",
       "2  2017-08-17  76.260002  63.029999  39.465000  166.910004  60.419998   \n",
       "3  2017-08-18  76.639999  63.320000  39.375000  167.410004  60.310001   \n",
       "4  2017-08-21  76.379997  63.000000  39.302502  167.779999  60.110001   \n",
       "\n",
       "      BMW.DE          BA     AIR.PA  \n",
       "0  80.000000  239.169998  72.339996  \n",
       "1  80.139999  237.589996  72.879997  \n",
       "2  79.809998  235.589996  72.190002  \n",
       "3  79.540001  235.770004  71.500000  \n",
       "4  78.970001  235.679993  70.839996  "
      ]
     },
     "execution_count": 10,
     "metadata": {},
     "output_type": "execute_result"
    }
   ],
   "source": [
    "stocks = [\"XOM\", \"SLB\", \"AAPL\", \"META\", \"MBG.DE\", \"BMW.DE\", \"BA\", \"AIR.PA\"  ]\n",
    "portfolio = combine_stocks(stocks)\n",
    "\n",
    "portfolio.to_csv('portfolio.csv', index=True)\n",
    "portfolio = pd.read_csv(\"portfolio.csv\")\n",
    "portfolio.head()"
   ]
  },
  {
   "cell_type": "code",
   "execution_count": 11,
   "id": "55d217c5",
   "metadata": {},
   "outputs": [
    {
     "data": {
      "text/html": [
       "<div>\n",
       "<style scoped>\n",
       "    .dataframe tbody tr th:only-of-type {\n",
       "        vertical-align: middle;\n",
       "    }\n",
       "\n",
       "    .dataframe tbody tr th {\n",
       "        vertical-align: top;\n",
       "    }\n",
       "\n",
       "    .dataframe thead th {\n",
       "        text-align: right;\n",
       "    }\n",
       "</style>\n",
       "<table border=\"1\" class=\"dataframe\">\n",
       "  <thead>\n",
       "    <tr style=\"text-align: right;\">\n",
       "      <th></th>\n",
       "      <th>Date</th>\n",
       "      <th>XOM</th>\n",
       "      <th>SLB</th>\n",
       "      <th>AAPL</th>\n",
       "      <th>META</th>\n",
       "      <th>MBG.DE</th>\n",
       "      <th>BMW.DE</th>\n",
       "      <th>BA</th>\n",
       "      <th>AIR.PA</th>\n",
       "    </tr>\n",
       "  </thead>\n",
       "  <tbody>\n",
       "  </tbody>\n",
       "</table>\n",
       "</div>"
      ],
      "text/plain": [
       "Empty DataFrame\n",
       "Columns: [Date, XOM, SLB, AAPL, META, MBG.DE, BMW.DE, BA, AIR.PA]\n",
       "Index: []"
      ]
     },
     "execution_count": 11,
     "metadata": {},
     "output_type": "execute_result"
    }
   ],
   "source": [
    "portfolio[portfolio.Date.isna()]"
   ]
  },
  {
   "cell_type": "code",
   "execution_count": 12,
   "id": "fd6eb903",
   "metadata": {},
   "outputs": [
    {
     "name": "stdout",
     "output_type": "stream",
     "text": [
      "<class 'pandas.core.frame.DataFrame'>\n",
      "RangeIndex: 1293 entries, 0 to 1292\n",
      "Data columns (total 9 columns):\n",
      " #   Column  Non-Null Count  Dtype         \n",
      "---  ------  --------------  -----         \n",
      " 0   Date    1293 non-null   datetime64[ns]\n",
      " 1   XOM     1259 non-null   float64       \n",
      " 2   SLB     1259 non-null   float64       \n",
      " 3   AAPL    1259 non-null   float64       \n",
      " 4   META    1259 non-null   float64       \n",
      " 5   MBG.DE  1268 non-null   float64       \n",
      " 6   BMW.DE  1268 non-null   float64       \n",
      " 7   BA      1259 non-null   float64       \n",
      " 8   AIR.PA  1282 non-null   float64       \n",
      "dtypes: datetime64[ns](1), float64(8)\n",
      "memory usage: 91.0 KB\n"
     ]
    }
   ],
   "source": [
    "portfolio.Date = pd.to_datetime(portfolio['Date'])\n",
    "portfolio.info()"
   ]
  },
  {
   "cell_type": "code",
   "execution_count": 13,
   "id": "2c78cb16",
   "metadata": {},
   "outputs": [
    {
     "data": {
      "text/html": [
       "<div>\n",
       "<style scoped>\n",
       "    .dataframe tbody tr th:only-of-type {\n",
       "        vertical-align: middle;\n",
       "    }\n",
       "\n",
       "    .dataframe tbody tr th {\n",
       "        vertical-align: top;\n",
       "    }\n",
       "\n",
       "    .dataframe thead th {\n",
       "        text-align: right;\n",
       "    }\n",
       "</style>\n",
       "<table border=\"1\" class=\"dataframe\">\n",
       "  <thead>\n",
       "    <tr style=\"text-align: right;\">\n",
       "      <th></th>\n",
       "      <th>XOM</th>\n",
       "      <th>SLB</th>\n",
       "      <th>AAPL</th>\n",
       "      <th>META</th>\n",
       "      <th>MBG.DE</th>\n",
       "      <th>BMW.DE</th>\n",
       "      <th>BA</th>\n",
       "      <th>AIR.PA</th>\n",
       "    </tr>\n",
       "  </thead>\n",
       "  <tbody>\n",
       "    <tr>\n",
       "      <th>count</th>\n",
       "      <td>1259.000000</td>\n",
       "      <td>1259.000000</td>\n",
       "      <td>1259.000000</td>\n",
       "      <td>1259.000000</td>\n",
       "      <td>1268.000000</td>\n",
       "      <td>1268.000000</td>\n",
       "      <td>1259.000000</td>\n",
       "      <td>1282.000000</td>\n",
       "    </tr>\n",
       "    <tr>\n",
       "      <th>mean</th>\n",
       "      <td>67.905314</td>\n",
       "      <td>40.230349</td>\n",
       "      <td>89.926783</td>\n",
       "      <td>221.225068</td>\n",
       "      <td>58.148398</td>\n",
       "      <td>75.783990</td>\n",
       "      <td>267.249547</td>\n",
       "      <td>99.823479</td>\n",
       "    </tr>\n",
       "    <tr>\n",
       "      <th>std</th>\n",
       "      <td>15.941674</td>\n",
       "      <td>16.910811</td>\n",
       "      <td>46.117945</td>\n",
       "      <td>63.196325</td>\n",
       "      <td>13.389360</td>\n",
       "      <td>11.639387</td>\n",
       "      <td>82.632752</td>\n",
       "      <td>19.820138</td>\n",
       "    </tr>\n",
       "    <tr>\n",
       "      <th>min</th>\n",
       "      <td>31.450001</td>\n",
       "      <td>12.050000</td>\n",
       "      <td>35.547501</td>\n",
       "      <td>124.059998</td>\n",
       "      <td>21.840000</td>\n",
       "      <td>37.660000</td>\n",
       "      <td>95.010002</td>\n",
       "      <td>49.064999</td>\n",
       "    </tr>\n",
       "    <tr>\n",
       "      <th>25%</th>\n",
       "      <td>57.060001</td>\n",
       "      <td>28.330000</td>\n",
       "      <td>47.185001</td>\n",
       "      <td>175.115005</td>\n",
       "      <td>48.675000</td>\n",
       "      <td>68.699999</td>\n",
       "      <td>202.220001</td>\n",
       "      <td>89.080000</td>\n",
       "    </tr>\n",
       "    <tr>\n",
       "      <th>50%</th>\n",
       "      <td>71.879997</td>\n",
       "      <td>36.660000</td>\n",
       "      <td>71.107498</td>\n",
       "      <td>194.470001</td>\n",
       "      <td>57.674999</td>\n",
       "      <td>76.400002</td>\n",
       "      <td>254.210007</td>\n",
       "      <td>100.950001</td>\n",
       "    </tr>\n",
       "    <tr>\n",
       "      <th>75%</th>\n",
       "      <td>80.735001</td>\n",
       "      <td>49.510000</td>\n",
       "      <td>133.300003</td>\n",
       "      <td>266.865005</td>\n",
       "      <td>69.474998</td>\n",
       "      <td>85.300003</td>\n",
       "      <td>346.830002</td>\n",
       "      <td>114.080002</td>\n",
       "    </tr>\n",
       "    <tr>\n",
       "      <th>max</th>\n",
       "      <td>104.589996</td>\n",
       "      <td>79.790001</td>\n",
       "      <td>182.009995</td>\n",
       "      <td>382.179993</td>\n",
       "      <td>90.970001</td>\n",
       "      <td>99.320000</td>\n",
       "      <td>440.619995</td>\n",
       "      <td>139.000000</td>\n",
       "    </tr>\n",
       "  </tbody>\n",
       "</table>\n",
       "</div>"
      ],
      "text/plain": [
       "               XOM          SLB         AAPL         META       MBG.DE  \\\n",
       "count  1259.000000  1259.000000  1259.000000  1259.000000  1268.000000   \n",
       "mean     67.905314    40.230349    89.926783   221.225068    58.148398   \n",
       "std      15.941674    16.910811    46.117945    63.196325    13.389360   \n",
       "min      31.450001    12.050000    35.547501   124.059998    21.840000   \n",
       "25%      57.060001    28.330000    47.185001   175.115005    48.675000   \n",
       "50%      71.879997    36.660000    71.107498   194.470001    57.674999   \n",
       "75%      80.735001    49.510000   133.300003   266.865005    69.474998   \n",
       "max     104.589996    79.790001   182.009995   382.179993    90.970001   \n",
       "\n",
       "            BMW.DE           BA       AIR.PA  \n",
       "count  1268.000000  1259.000000  1282.000000  \n",
       "mean     75.783990   267.249547    99.823479  \n",
       "std      11.639387    82.632752    19.820138  \n",
       "min      37.660000    95.010002    49.064999  \n",
       "25%      68.699999   202.220001    89.080000  \n",
       "50%      76.400002   254.210007   100.950001  \n",
       "75%      85.300003   346.830002   114.080002  \n",
       "max      99.320000   440.619995   139.000000  "
      ]
     },
     "execution_count": 13,
     "metadata": {},
     "output_type": "execute_result"
    }
   ],
   "source": [
    "portfolio.describe()"
   ]
  },
  {
   "cell_type": "code",
   "execution_count": 14,
   "id": "d4428116",
   "metadata": {},
   "outputs": [
    {
     "data": {
      "text/html": [
       "<div>\n",
       "<style scoped>\n",
       "    .dataframe tbody tr th:only-of-type {\n",
       "        vertical-align: middle;\n",
       "    }\n",
       "\n",
       "    .dataframe tbody tr th {\n",
       "        vertical-align: top;\n",
       "    }\n",
       "\n",
       "    .dataframe thead th {\n",
       "        text-align: right;\n",
       "    }\n",
       "</style>\n",
       "<table border=\"1\" class=\"dataframe\">\n",
       "  <thead>\n",
       "    <tr style=\"text-align: right;\">\n",
       "      <th></th>\n",
       "      <th>XOM</th>\n",
       "      <th>SLB</th>\n",
       "      <th>AAPL</th>\n",
       "      <th>META</th>\n",
       "      <th>MBG.DE</th>\n",
       "      <th>BMW.DE</th>\n",
       "      <th>BA</th>\n",
       "      <th>AIR.PA</th>\n",
       "    </tr>\n",
       "    <tr>\n",
       "      <th>Date</th>\n",
       "      <th></th>\n",
       "      <th></th>\n",
       "      <th></th>\n",
       "      <th></th>\n",
       "      <th></th>\n",
       "      <th></th>\n",
       "      <th></th>\n",
       "      <th></th>\n",
       "    </tr>\n",
       "  </thead>\n",
       "  <tbody>\n",
       "    <tr>\n",
       "      <th>2017-08-15</th>\n",
       "      <td>78.040001</td>\n",
       "      <td>63.439999</td>\n",
       "      <td>40.400002</td>\n",
       "      <td>171.000000</td>\n",
       "      <td>60.250000</td>\n",
       "      <td>80.000000</td>\n",
       "      <td>239.169998</td>\n",
       "      <td>72.339996</td>\n",
       "    </tr>\n",
       "    <tr>\n",
       "      <th>2017-08-16</th>\n",
       "      <td>77.470001</td>\n",
       "      <td>63.709999</td>\n",
       "      <td>40.237499</td>\n",
       "      <td>170.000000</td>\n",
       "      <td>60.520000</td>\n",
       "      <td>80.139999</td>\n",
       "      <td>237.589996</td>\n",
       "      <td>72.879997</td>\n",
       "    </tr>\n",
       "    <tr>\n",
       "      <th>2017-08-17</th>\n",
       "      <td>76.260002</td>\n",
       "      <td>63.029999</td>\n",
       "      <td>39.465000</td>\n",
       "      <td>166.910004</td>\n",
       "      <td>60.419998</td>\n",
       "      <td>79.809998</td>\n",
       "      <td>235.589996</td>\n",
       "      <td>72.190002</td>\n",
       "    </tr>\n",
       "    <tr>\n",
       "      <th>2017-08-18</th>\n",
       "      <td>76.639999</td>\n",
       "      <td>63.320000</td>\n",
       "      <td>39.375000</td>\n",
       "      <td>167.410004</td>\n",
       "      <td>60.310001</td>\n",
       "      <td>79.540001</td>\n",
       "      <td>235.770004</td>\n",
       "      <td>71.500000</td>\n",
       "    </tr>\n",
       "    <tr>\n",
       "      <th>2017-08-21</th>\n",
       "      <td>76.379997</td>\n",
       "      <td>63.000000</td>\n",
       "      <td>39.302502</td>\n",
       "      <td>167.779999</td>\n",
       "      <td>60.110001</td>\n",
       "      <td>78.970001</td>\n",
       "      <td>235.679993</td>\n",
       "      <td>70.839996</td>\n",
       "    </tr>\n",
       "  </tbody>\n",
       "</table>\n",
       "</div>"
      ],
      "text/plain": [
       "                  XOM        SLB       AAPL        META     MBG.DE     BMW.DE  \\\n",
       "Date                                                                            \n",
       "2017-08-15  78.040001  63.439999  40.400002  171.000000  60.250000  80.000000   \n",
       "2017-08-16  77.470001  63.709999  40.237499  170.000000  60.520000  80.139999   \n",
       "2017-08-17  76.260002  63.029999  39.465000  166.910004  60.419998  79.809998   \n",
       "2017-08-18  76.639999  63.320000  39.375000  167.410004  60.310001  79.540001   \n",
       "2017-08-21  76.379997  63.000000  39.302502  167.779999  60.110001  78.970001   \n",
       "\n",
       "                    BA     AIR.PA  \n",
       "Date                               \n",
       "2017-08-15  239.169998  72.339996  \n",
       "2017-08-16  237.589996  72.879997  \n",
       "2017-08-17  235.589996  72.190002  \n",
       "2017-08-18  235.770004  71.500000  \n",
       "2017-08-21  235.679993  70.839996  "
      ]
     },
     "execution_count": 14,
     "metadata": {},
     "output_type": "execute_result"
    }
   ],
   "source": [
    "portfolio.index = portfolio.Date\n",
    "portfolio.drop(\"Date\", inplace=True, axis=1)\n",
    "portfolio.head()"
   ]
  },
  {
   "cell_type": "code",
   "execution_count": 15,
   "id": "4f730dac",
   "metadata": {
    "scrolled": true
   },
   "outputs": [
    {
     "data": {
      "image/png": "[encoded data removed]",
      "text/plain": [
       "<Figure size 1080x576 with 1 Axes>"
      ]
     },
     "metadata": {},
     "output_type": "display_data"
    }
   ],
   "source": [
    "plt.style.use('dark_background')\n",
    "\n",
    "ax = portfolio.plot(\n",
    "        kind='line', figsize=(15, 8), title= \"Portfolio Close Price History\", ylabel='Close Price(USD)'\n",
    "        )"
   ]
  },
  {
   "cell_type": "markdown",
   "id": "c37cd10e",
   "metadata": {},
   "source": [
    "## Mean Variance Optimization"
   ]
  },
  {
   "cell_type": "markdown",
   "id": "a11c317f",
   "metadata": {},
   "source": [
    "###### PyPortfolioOpt is a python package that implements financial portfolio optimization techniques, including classical mean-variance optimization (MVO) methods, Black-Litterman allocation, and modern methods such as the machine learning-inspired Hierarchical Risk Parity algorithm (López de Prado, 2016).\n"
   ]
  },
  {
   "cell_type": "code",
   "execution_count": 9,
   "id": "56738743",
   "metadata": {},
   "outputs": [
    {
     "name": "stdout",
     "output_type": "stream",
     "text": [
      "Requirement already satisfied: PyPortfolioOpt in d:\\conda\\lib\\site-packages (1.5.3)\n",
      "Requirement already satisfied: scipy<2.0,>=1.3 in d:\\conda\\lib\\site-packages (from PyPortfolioOpt) (1.7.3)\n",
      "Requirement already satisfied: numpy<2.0.0,>=1.22.4 in d:\\conda\\lib\\site-packages (from PyPortfolioOpt) (1.22.4)\n",
      "Requirement already satisfied: cvxpy<2.0.0,>=1.1.10 in d:\\conda\\lib\\site-packages (from PyPortfolioOpt) (1.2.1)\n",
      "Requirement already satisfied: pandas>=0.19 in d:\\conda\\lib\\site-packages (from PyPortfolioOpt) (1.4.2)\n",
      "Requirement already satisfied: osqp>=0.4.1 in d:\\conda\\lib\\site-packages (from cvxpy<2.0.0,>=1.1.10->PyPortfolioOpt) (0.6.2.post5)\n",
      "Requirement already satisfied: ecos>=2 in d:\\conda\\lib\\site-packages (from cvxpy<2.0.0,>=1.1.10->PyPortfolioOpt) (2.0.10)\n",
      "Requirement already satisfied: scs>=1.1.6 in d:\\conda\\lib\\site-packages (from cvxpy<2.0.0,>=1.1.10->PyPortfolioOpt) (3.2.0)\n",
      "Requirement already satisfied: qdldl in d:\\conda\\lib\\site-packages (from osqp>=0.4.1->cvxpy<2.0.0,>=1.1.10->PyPortfolioOpt) (0.1.5.post2)\n",
      "Requirement already satisfied: python-dateutil>=2.8.1 in d:\\conda\\lib\\site-packages (from pandas>=0.19->PyPortfolioOpt) (2.8.2)\n",
      "Requirement already satisfied: pytz>=2020.1 in d:\\conda\\lib\\site-packages (from pandas>=0.19->PyPortfolioOpt) (2021.3)\n",
      "Requirement already satisfied: six>=1.5 in d:\\conda\\lib\\site-packages (from python-dateutil>=2.8.1->pandas>=0.19->PyPortfolioOpt) (1.16.0)\n",
      "Note: you may need to restart the kernel to use updated packages.\n"
     ]
    }
   ],
   "source": [
    "pip install PyPortfolioOpt"
   ]
  },
  {
   "cell_type": "code",
   "execution_count": 16,
   "id": "10ba94e1",
   "metadata": {},
   "outputs": [
    {
     "name": "stdout",
     "output_type": "stream",
     "text": [
      "mu:\n",
      "\n",
      " XOM       0.033318\n",
      "SLB      -0.105789\n",
      "AAPL      0.328302\n",
      "META      0.011027\n",
      "MBG.DE   -0.023087\n",
      "BMW.DE   -0.018253\n",
      "BA       -0.063912\n",
      "AIR.PA    0.088392\n",
      "dtype: float64 \n",
      "\n",
      "\n",
      "S:\n",
      "\n",
      "              XOM       SLB      AAPL      META    MBG.DE    BMW.DE        BA  \\\n",
      "XOM     0.110481  0.114120  0.032631  0.029190  0.050620  0.036210  0.079011   \n",
      "SLB     0.114120  0.218667  0.042382  0.038606  0.079425  0.061449  0.107798   \n",
      "AAPL    0.032631  0.042382  0.105601  0.069626  0.033973  0.023604  0.063112   \n",
      "META    0.029190  0.038606  0.069626  0.156585  0.032227  0.021826  0.060651   \n",
      "MBG.DE  0.050620  0.079425  0.033973  0.032227  0.237097  0.150369  0.078815   \n",
      "BMW.DE  0.036210  0.061449  0.023604  0.021826  0.150369  0.160404  0.058015   \n",
      "BA      0.079011  0.107798  0.063112  0.060651  0.078815  0.058015  0.237924   \n",
      "AIR.PA  0.052301  0.092802  0.027794  0.027427  0.131455  0.116462  0.099378   \n",
      "\n",
      "          AIR.PA  \n",
      "XOM     0.052301  \n",
      "SLB     0.092802  \n",
      "AAPL    0.027794  \n",
      "META    0.027427  \n",
      "MBG.DE  0.131455  \n",
      "BMW.DE  0.116462  \n",
      "BA      0.099378  \n",
      "AIR.PA  0.340962  \n"
     ]
    }
   ],
   "source": [
    "from pypfopt.expected_returns import mean_historical_return\n",
    "from pypfopt.risk_models import CovarianceShrinkage\n",
    "\n",
    "mu = mean_historical_return(portfolio)\n",
    "S = CovarianceShrinkage(portfolio).ledoit_wolf()\n",
    "\n",
    "print(\"mu:\\n\\n\", mu, \"\\n\\n\")\n",
    "print(\"S:\\n\\n\", S)"
   ]
  },
  {
   "cell_type": "markdown",
   "id": "bc58dbd6",
   "metadata": {},
   "source": [
    "## import the EfficientFrontier module and calculate the weights\n",
    "Here, we will use the max Sharpe statistic. The Sharpe ratio is the ratio between returns and risk. The lower the risk and the higher the returns, the higher the Sharpe ratio. The algorithm looks for the maximum Sharpe ratio, which translates to the portfolio with the highest return and lowest risk. Ultimately, the higher the Sharpe ratio, the better the performance of the portfolio."
   ]
  },
  {
   "cell_type": "code",
   "execution_count": 17,
   "id": "eb11417b",
   "metadata": {},
   "outputs": [
    {
     "name": "stdout",
     "output_type": "stream",
     "text": [
      "{'XOM': 0.0, 'SLB': 0.0, 'AAPL': 1.0, 'META': 0.0, 'MBG.DE': 0.0, 'BMW.DE': 0.0, 'BA': 0.0, 'AIR.PA': 0.0}\n"
     ]
    }
   ],
   "source": [
    "from pypfopt.efficient_frontier import EfficientFrontier\n",
    "\n",
    "ef = EfficientFrontier(mu, S)\n",
    "weights = ef.max_sharpe()\n",
    "\n",
    "cleaned_weights = ef.clean_weights()\n",
    "print(dict(cleaned_weights))"
   ]
  },
  {
   "cell_type": "markdown",
   "id": "f6dcfe31",
   "metadata": {},
   "source": [
    "## portfolio performance:"
   ]
  },
  {
   "cell_type": "code",
   "execution_count": 18,
   "id": "16404aa1",
   "metadata": {},
   "outputs": [
    {
     "name": "stdout",
     "output_type": "stream",
     "text": [
      "Expected annual return: 32.8%\n",
      "Annual volatility: 32.5%\n",
      "Sharpe Ratio: 0.95\n"
     ]
    },
    {
     "data": {
      "text/plain": [
       "(0.32830233655942953, 0.32496282295598494, 0.9487311002378508)"
      ]
     },
     "execution_count": 18,
     "metadata": {},
     "output_type": "execute_result"
    }
   ],
   "source": [
    "ef.portfolio_performance(verbose=True)"
   ]
  },
  {
   "cell_type": "markdown",
   "id": "98adecbb",
   "metadata": {},
   "source": [
    "###  Convert the weights into actual allocations values (i.e., how many of each stock to buy). The investment amount of $100,000:"
   ]
  },
  {
   "cell_type": "code",
   "execution_count": 19,
   "id": "7b63b1fc",
   "metadata": {},
   "outputs": [
    {
     "name": "stdout",
     "output_type": "stream",
     "text": [
      "Discrete allocation: {'AAPL': 577}\n",
      "Funds remaining: $69.37\n"
     ]
    }
   ],
   "source": [
    "from pypfopt.discrete_allocation import DiscreteAllocation, get_latest_prices\n",
    "\n",
    "latest_prices = get_latest_prices(portfolio)\n",
    "\n",
    "da = DiscreteAllocation(weights, latest_prices, total_portfolio_value=100000)\n",
    "\n",
    "allocation, leftover = da.greedy_portfolio()\n",
    "print(\"Discrete allocation:\", allocation)\n",
    "print(\"Funds remaining: ${:.2f}\".format(leftover))"
   ]
  },
  {
   "cell_type": "markdown",
   "id": "6d2d288b",
   "metadata": {},
   "source": [
    "# Hierarchical Risk Parity (HRP)\n",
    "The HRP method works by finding subclusters of similar assets based on returns and constructing a hierarchy from these clusters to generate weights for each asset."
   ]
  },
  {
   "cell_type": "code",
   "execution_count": 20,
   "id": "067572da",
   "metadata": {},
   "outputs": [],
   "source": [
    "from pypfopt import HRPOpt"
   ]
  },
  {
   "cell_type": "code",
   "execution_count": 21,
   "id": "59eaf798",
   "metadata": {},
   "outputs": [
    {
     "data": {
      "text/html": [
       "<div>\n",
       "<style scoped>\n",
       "    .dataframe tbody tr th:only-of-type {\n",
       "        vertical-align: middle;\n",
       "    }\n",
       "\n",
       "    .dataframe tbody tr th {\n",
       "        vertical-align: top;\n",
       "    }\n",
       "\n",
       "    .dataframe thead th {\n",
       "        text-align: right;\n",
       "    }\n",
       "</style>\n",
       "<table border=\"1\" class=\"dataframe\">\n",
       "  <thead>\n",
       "    <tr style=\"text-align: right;\">\n",
       "      <th></th>\n",
       "      <th>XOM</th>\n",
       "      <th>SLB</th>\n",
       "      <th>AAPL</th>\n",
       "      <th>META</th>\n",
       "      <th>MBG.DE</th>\n",
       "      <th>BMW.DE</th>\n",
       "      <th>BA</th>\n",
       "      <th>AIR.PA</th>\n",
       "    </tr>\n",
       "    <tr>\n",
       "      <th>Date</th>\n",
       "      <th></th>\n",
       "      <th></th>\n",
       "      <th></th>\n",
       "      <th></th>\n",
       "      <th></th>\n",
       "      <th></th>\n",
       "      <th></th>\n",
       "      <th></th>\n",
       "    </tr>\n",
       "  </thead>\n",
       "  <tbody>\n",
       "    <tr>\n",
       "      <th>2017-08-15</th>\n",
       "      <td>78.040001</td>\n",
       "      <td>63.439999</td>\n",
       "      <td>40.400002</td>\n",
       "      <td>171.000000</td>\n",
       "      <td>60.250000</td>\n",
       "      <td>80.000000</td>\n",
       "      <td>239.169998</td>\n",
       "      <td>72.339996</td>\n",
       "    </tr>\n",
       "    <tr>\n",
       "      <th>2017-08-16</th>\n",
       "      <td>77.470001</td>\n",
       "      <td>63.709999</td>\n",
       "      <td>40.237499</td>\n",
       "      <td>170.000000</td>\n",
       "      <td>60.520000</td>\n",
       "      <td>80.139999</td>\n",
       "      <td>237.589996</td>\n",
       "      <td>72.879997</td>\n",
       "    </tr>\n",
       "    <tr>\n",
       "      <th>2017-08-17</th>\n",
       "      <td>76.260002</td>\n",
       "      <td>63.029999</td>\n",
       "      <td>39.465000</td>\n",
       "      <td>166.910004</td>\n",
       "      <td>60.419998</td>\n",
       "      <td>79.809998</td>\n",
       "      <td>235.589996</td>\n",
       "      <td>72.190002</td>\n",
       "    </tr>\n",
       "    <tr>\n",
       "      <th>2017-08-18</th>\n",
       "      <td>76.639999</td>\n",
       "      <td>63.320000</td>\n",
       "      <td>39.375000</td>\n",
       "      <td>167.410004</td>\n",
       "      <td>60.310001</td>\n",
       "      <td>79.540001</td>\n",
       "      <td>235.770004</td>\n",
       "      <td>71.500000</td>\n",
       "    </tr>\n",
       "    <tr>\n",
       "      <th>2017-08-21</th>\n",
       "      <td>76.379997</td>\n",
       "      <td>63.000000</td>\n",
       "      <td>39.302502</td>\n",
       "      <td>167.779999</td>\n",
       "      <td>60.110001</td>\n",
       "      <td>78.970001</td>\n",
       "      <td>235.679993</td>\n",
       "      <td>70.839996</td>\n",
       "    </tr>\n",
       "  </tbody>\n",
       "</table>\n",
       "</div>"
      ],
      "text/plain": [
       "                  XOM        SLB       AAPL        META     MBG.DE     BMW.DE  \\\n",
       "Date                                                                            \n",
       "2017-08-15  78.040001  63.439999  40.400002  171.000000  60.250000  80.000000   \n",
       "2017-08-16  77.470001  63.709999  40.237499  170.000000  60.520000  80.139999   \n",
       "2017-08-17  76.260002  63.029999  39.465000  166.910004  60.419998  79.809998   \n",
       "2017-08-18  76.639999  63.320000  39.375000  167.410004  60.310001  79.540001   \n",
       "2017-08-21  76.379997  63.000000  39.302502  167.779999  60.110001  78.970001   \n",
       "\n",
       "                    BA     AIR.PA  \n",
       "Date                               \n",
       "2017-08-15  239.169998  72.339996  \n",
       "2017-08-16  237.589996  72.879997  \n",
       "2017-08-17  235.589996  72.190002  \n",
       "2017-08-18  235.770004  71.500000  \n",
       "2017-08-21  235.679993  70.839996  "
      ]
     },
     "execution_count": 21,
     "metadata": {},
     "output_type": "execute_result"
    }
   ],
   "source": [
    "portfolio.head()"
   ]
  },
  {
   "cell_type": "code",
   "execution_count": 22,
   "id": "9698e415",
   "metadata": {},
   "outputs": [
    {
     "data": {
      "text/html": [
       "<div>\n",
       "<style scoped>\n",
       "    .dataframe tbody tr th:only-of-type {\n",
       "        vertical-align: middle;\n",
       "    }\n",
       "\n",
       "    .dataframe tbody tr th {\n",
       "        vertical-align: top;\n",
       "    }\n",
       "\n",
       "    .dataframe thead th {\n",
       "        text-align: right;\n",
       "    }\n",
       "</style>\n",
       "<table border=\"1\" class=\"dataframe\">\n",
       "  <thead>\n",
       "    <tr style=\"text-align: right;\">\n",
       "      <th></th>\n",
       "      <th>XOM</th>\n",
       "      <th>SLB</th>\n",
       "      <th>AAPL</th>\n",
       "      <th>META</th>\n",
       "      <th>MBG.DE</th>\n",
       "      <th>BMW.DE</th>\n",
       "      <th>BA</th>\n",
       "      <th>AIR.PA</th>\n",
       "    </tr>\n",
       "    <tr>\n",
       "      <th>Date</th>\n",
       "      <th></th>\n",
       "      <th></th>\n",
       "      <th></th>\n",
       "      <th></th>\n",
       "      <th></th>\n",
       "      <th></th>\n",
       "      <th></th>\n",
       "      <th></th>\n",
       "    </tr>\n",
       "  </thead>\n",
       "  <tbody>\n",
       "    <tr>\n",
       "      <th>2017-08-16</th>\n",
       "      <td>-0.007304</td>\n",
       "      <td>0.004256</td>\n",
       "      <td>-0.004022</td>\n",
       "      <td>-0.005848</td>\n",
       "      <td>0.004481</td>\n",
       "      <td>0.001750</td>\n",
       "      <td>-0.006606</td>\n",
       "      <td>0.007465</td>\n",
       "    </tr>\n",
       "    <tr>\n",
       "      <th>2017-08-17</th>\n",
       "      <td>-0.015619</td>\n",
       "      <td>-0.010673</td>\n",
       "      <td>-0.019198</td>\n",
       "      <td>-0.018176</td>\n",
       "      <td>-0.001652</td>\n",
       "      <td>-0.004118</td>\n",
       "      <td>-0.008418</td>\n",
       "      <td>-0.009468</td>\n",
       "    </tr>\n",
       "    <tr>\n",
       "      <th>2017-08-18</th>\n",
       "      <td>0.004983</td>\n",
       "      <td>0.004601</td>\n",
       "      <td>-0.002281</td>\n",
       "      <td>0.002996</td>\n",
       "      <td>-0.001821</td>\n",
       "      <td>-0.003383</td>\n",
       "      <td>0.000764</td>\n",
       "      <td>-0.009558</td>\n",
       "    </tr>\n",
       "    <tr>\n",
       "      <th>2017-08-21</th>\n",
       "      <td>-0.003393</td>\n",
       "      <td>-0.005054</td>\n",
       "      <td>-0.001841</td>\n",
       "      <td>0.002210</td>\n",
       "      <td>-0.003316</td>\n",
       "      <td>-0.007166</td>\n",
       "      <td>-0.000382</td>\n",
       "      <td>-0.009231</td>\n",
       "    </tr>\n",
       "    <tr>\n",
       "      <th>2017-08-22</th>\n",
       "      <td>0.004713</td>\n",
       "      <td>0.005556</td>\n",
       "      <td>0.016348</td>\n",
       "      <td>0.011086</td>\n",
       "      <td>0.011978</td>\n",
       "      <td>0.005192</td>\n",
       "      <td>0.017269</td>\n",
       "      <td>0.005788</td>\n",
       "    </tr>\n",
       "  </tbody>\n",
       "</table>\n",
       "</div>"
      ],
      "text/plain": [
       "                 XOM       SLB      AAPL      META    MBG.DE    BMW.DE  \\\n",
       "Date                                                                     \n",
       "2017-08-16 -0.007304  0.004256 -0.004022 -0.005848  0.004481  0.001750   \n",
       "2017-08-17 -0.015619 -0.010673 -0.019198 -0.018176 -0.001652 -0.004118   \n",
       "2017-08-18  0.004983  0.004601 -0.002281  0.002996 -0.001821 -0.003383   \n",
       "2017-08-21 -0.003393 -0.005054 -0.001841  0.002210 -0.003316 -0.007166   \n",
       "2017-08-22  0.004713  0.005556  0.016348  0.011086  0.011978  0.005192   \n",
       "\n",
       "                  BA    AIR.PA  \n",
       "Date                            \n",
       "2017-08-16 -0.006606  0.007465  \n",
       "2017-08-17 -0.008418 -0.009468  \n",
       "2017-08-18  0.000764 -0.009558  \n",
       "2017-08-21 -0.000382 -0.009231  \n",
       "2017-08-22  0.017269  0.005788  "
      ]
     },
     "execution_count": 22,
     "metadata": {},
     "output_type": "execute_result"
    }
   ],
   "source": [
    "returns = portfolio.pct_change().dropna()\n",
    "returns.head()"
   ]
  },
  {
   "cell_type": "markdown",
   "id": "5d3900ab",
   "metadata": {},
   "source": [
    "A HRPOpt object (returns) constructs a hierarchical risk parity portfolio.\n",
    "optimize() calculates weights using HRP. resource: https://pyportfolioopt.readthedocs.io/en/latest/_modules/pypfopt/hierarchical_portfolio.html"
   ]
  },
  {
   "cell_type": "code",
   "execution_count": 23,
   "id": "e6f60b73",
   "metadata": {},
   "outputs": [
    {
     "data": {
      "text/plain": [
       "OrderedDict([('AAPL', 0.23198487398432302),\n",
       "             ('AIR.PA', 0.0541536429474847),\n",
       "             ('BA', 0.09528195983663827),\n",
       "             ('BMW.DE', 0.14725874956807214),\n",
       "             ('MBG.DE', 0.07895940091632193),\n",
       "             ('META', 0.1482795230230964),\n",
       "             ('SLB', 0.07923573774278944),\n",
       "             ('XOM', 0.1648461119812741)])"
      ]
     },
     "execution_count": 23,
     "metadata": {},
     "output_type": "execute_result"
    }
   ],
   "source": [
    "hrp = HRPOpt(returns)\n",
    "hrp_weights = hrp.optimize()\n",
    "hrp_weights"
   ]
  },
  {
   "cell_type": "code",
   "execution_count": 24,
   "id": "3921ace8",
   "metadata": {},
   "outputs": [
    {
     "data": {
      "text/html": [
       "<div>\n",
       "<style scoped>\n",
       "    .dataframe tbody tr th:only-of-type {\n",
       "        vertical-align: middle;\n",
       "    }\n",
       "\n",
       "    .dataframe tbody tr th {\n",
       "        vertical-align: top;\n",
       "    }\n",
       "\n",
       "    .dataframe thead th {\n",
       "        text-align: right;\n",
       "    }\n",
       "</style>\n",
       "<table border=\"1\" class=\"dataframe\">\n",
       "  <thead>\n",
       "    <tr style=\"text-align: right;\">\n",
       "      <th></th>\n",
       "      <th>Stocks</th>\n",
       "      <th>Returns</th>\n",
       "    </tr>\n",
       "  </thead>\n",
       "  <tbody>\n",
       "    <tr>\n",
       "      <th>0</th>\n",
       "      <td>AAPL</td>\n",
       "      <td>0.231985</td>\n",
       "    </tr>\n",
       "    <tr>\n",
       "      <th>1</th>\n",
       "      <td>AIR.PA</td>\n",
       "      <td>0.054154</td>\n",
       "    </tr>\n",
       "    <tr>\n",
       "      <th>2</th>\n",
       "      <td>BA</td>\n",
       "      <td>0.095282</td>\n",
       "    </tr>\n",
       "    <tr>\n",
       "      <th>3</th>\n",
       "      <td>BMW.DE</td>\n",
       "      <td>0.147259</td>\n",
       "    </tr>\n",
       "    <tr>\n",
       "      <th>4</th>\n",
       "      <td>MBG.DE</td>\n",
       "      <td>0.078959</td>\n",
       "    </tr>\n",
       "    <tr>\n",
       "      <th>5</th>\n",
       "      <td>META</td>\n",
       "      <td>0.148280</td>\n",
       "    </tr>\n",
       "    <tr>\n",
       "      <th>6</th>\n",
       "      <td>SLB</td>\n",
       "      <td>0.079236</td>\n",
       "    </tr>\n",
       "    <tr>\n",
       "      <th>7</th>\n",
       "      <td>XOM</td>\n",
       "      <td>0.164846</td>\n",
       "    </tr>\n",
       "  </tbody>\n",
       "</table>\n",
       "</div>"
      ],
      "text/plain": [
       "   Stocks   Returns\n",
       "0    AAPL  0.231985\n",
       "1  AIR.PA  0.054154\n",
       "2      BA  0.095282\n",
       "3  BMW.DE  0.147259\n",
       "4  MBG.DE  0.078959\n",
       "5    META  0.148280\n",
       "6     SLB  0.079236\n",
       "7     XOM  0.164846"
      ]
     },
     "execution_count": 24,
     "metadata": {},
     "output_type": "execute_result"
    }
   ],
   "source": [
    "allocations_df = pd.DataFrame.from_dict(hrp_weights, orient='index').reset_index()\n",
    "allocations_df.columns = ['Stocks','Returns']\n",
    "allocations_df"
   ]
  },
  {
   "cell_type": "code",
   "execution_count": 25,
   "id": "05da8bbd",
   "metadata": {},
   "outputs": [
    {
     "data": {
      "image/png": "[encoded data removed]",
      "text/plain": [
       "<Figure size 720x504 with 1 Axes>"
      ]
     },
     "metadata": {},
     "output_type": "display_data"
    }
   ],
   "source": [
    "fig = plt.figure(figsize =(10, 7))\n",
    "\n",
    "plt.pie(allocations_df.Returns, labels = allocations_df.Stocks,\n",
    "       colors = ['r', 'b', 'g', 'c', 'm', 'y', 'grey', 'w'],\n",
    "      )\n",
    "plt.legend()\n",
    "plt.show()"
   ]
  },
  {
   "cell_type": "markdown",
   "id": "ba936748",
   "metadata": {},
   "source": [
    "###### portfolio_performance() calculates the expected return, volatility and Sharpe ratio for the optimized portfolio."
   ]
  },
  {
   "cell_type": "code",
   "execution_count": 26,
   "id": "f41eae4b",
   "metadata": {},
   "outputs": [
    {
     "name": "stdout",
     "output_type": "stream",
     "text": [
      "Expected annual return: 14.2%\n",
      "Annual volatility: 26.4%\n",
      "Sharpe Ratio: 0.46\n",
      "{'AAPL': 0.23198487398432302, 'AIR.PA': 0.0541536429474847, 'BA': 0.09528195983663827, 'BMW.DE': 0.14725874956807214, 'MBG.DE': 0.07895940091632193, 'META': 0.1482795230230964, 'SLB': 0.07923573774278944, 'XOM': 0.1648461119812741}\n"
     ]
    }
   ],
   "source": [
    "hrp.portfolio_performance(verbose=True)\n",
    "print(dict(hrp_weights))"
   ]
  },
  {
   "cell_type": "markdown",
   "id": "d39bcad6",
   "metadata": {},
   "source": [
    "# Mean Conditional Value at Risk (mCVAR)\n",
    "The mCVAR is another popular alternative to mean variance optimization. It works by measuring the worst-case scenarios for each asset in the portfolio, which is represented here by losing the most money. The worst-case loss for each asset is then used to calculate weights to be used for allocation for each asset. "
   ]
  },
  {
   "cell_type": "code",
   "execution_count": 27,
   "id": "b0a3343c",
   "metadata": {},
   "outputs": [],
   "source": [
    "from pypfopt.efficient_frontier import EfficientCVaR"
   ]
  },
  {
   "cell_type": "code",
   "execution_count": 28,
   "id": "8087721c",
   "metadata": {},
   "outputs": [
    {
     "name": "stdout",
     "output_type": "stream",
     "text": [
      "Expected annual return: 1.6%\n",
      "Conditional Value at Risk: -12020.33%\n",
      "\n",
      " Stocks-Weights are:\n",
      " {'XOM': 0.0, 'SLB': 0.50921, 'AAPL': 0.24028, 'META': 0.0, 'MBG.DE': 0.17223, 'BMW.DE': 0.0, 'BA': 0.07829, 'AIR.PA': 0.0}\n"
     ]
    }
   ],
   "source": [
    "S = portfolio.cov()\n",
    "ef_cvar = EfficientCVaR(mu, S)\n",
    "cvar_weights = ef_cvar.min_cvar()\n",
    "cleaned_weights = ef_cvar.clean_weights()\n",
    "\n",
    "ef_cvar.portfolio_performance(verbose=True)\n",
    "print(\"\\n Stocks-Weights are:\\n\", dict(cleaned_weights))"
   ]
  },
  {
   "cell_type": "markdown",
   "id": "ac18604b",
   "metadata": {},
   "source": [
    "### Discrete Allocation"
   ]
  },
  {
   "cell_type": "code",
   "execution_count": 29,
   "id": "a6803a06",
   "metadata": {},
   "outputs": [
    {
     "name": "stdout",
     "output_type": "stream",
     "text": [
      "Discrete allocation (CVAR): {'SLB': 1423, 'AAPL': 138, 'MBG.DE': 322, 'BA': 46, 'XOM': 1}\n",
      "Funds remaining (CVAR): $68.46 \n"
     ]
    }
   ],
   "source": [
    "da_cvar = DiscreteAllocation(cvar_weights, latest_prices, total_portfolio_value=100000)\n",
    "\n",
    "allocation, leftover = da_cvar.greedy_portfolio()\n",
    "print(\"Discrete allocation (CVAR):\", allocation)\n",
    "print(\"Funds remaining (CVAR): ${:.2f} \".format(leftover))"
   ]
  },
  {
   "cell_type": "code",
   "execution_count": null,
   "id": "c0abb651",
   "metadata": {},
   "outputs": [],
   "source": []
  },
  {
   "cell_type": "code",
   "execution_count": null,
   "id": "f147bd72",
   "metadata": {},
   "outputs": [],
   "source": []
  }
 ],
 "metadata": {
  "kernelspec": {
   "display_name": "Python 3 (ipykernel)",
   "language": "python",
   "name": "python3"
  },
  "language_info": {
   "codemirror_mode": {
    "name": "ipython",
    "version": 3
   },
   "file_extension": ".py",
   "mimetype": "text/x-python",
   "name": "python",
   "nbconvert_exporter": "python",
   "pygments_lexer": "ipython3",
   "version": "3.9.12"
  }
 },
 "nbformat": 4,
 "nbformat_minor": 5
}
